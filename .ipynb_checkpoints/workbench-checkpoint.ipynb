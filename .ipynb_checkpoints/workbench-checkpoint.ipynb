{
 "cells": [
  {
   "cell_type": "code",
   "execution_count": 24,
   "id": "98a72785-5bf5-458b-a39a-55aa9f0f5a4e",
   "metadata": {
    "tags": []
   },
   "outputs": [
    {
     "name": "stderr",
     "output_type": "stream",
     "text": [
      "\n",
      "[notice] A new release of pip available: 22.3.1 -> 23.1.2\n",
      "[notice] To update, run: python.exe -m pip install --upgrade pip\n"
     ]
    }
   ],
   "source": [
    "!pip -q install pdfplumber pymupdf pytesseract Pillow pdf2image tqdm"
   ]
  },
  {
   "cell_type": "code",
   "execution_count": 25,
   "id": "209aab8f-8988-474f-9c9c-023c1b452b83",
   "metadata": {},
   "outputs": [],
   "source": [
    "import fitz\n",
    "import pdfplumber\n",
    "from langchain.document_loaders import DirectoryLoader\n",
    "from langchain.document_loaders import TextLoader\n",
    "import pytesseract\n",
    "from PIL import Image\n",
    "from pdf2image import convert_from_path\n",
    "import os"
   ]
  },
  {
   "cell_type": "code",
   "execution_count": 27,
   "id": "c173ac88-dd27-4729-96fe-b87761c2b339",
   "metadata": {},
   "outputs": [],
   "source": [
    "def is_searchable_pdf(file_name: str) -> bool:\n",
    "    doc = fitz.open(file_name)\n",
    "    page = doc.load_page(0)\n",
    "    text = page.get_text()\n",
    "    doc.close()\n",
    "    return bool(text)\n",
    "\n",
    "def extract_text_from_pdf(file_path: str) -> str:\n",
    "    text = None\n",
    "    if not is_searchable_pdf(file_path):\n",
    "        images = convert_from_path(file_path)\n",
    "        text = \"\\n\".join([pytesseract.image_to_string(image) for image in images])\n",
    "    return text"
   ]
  },
  {
   "cell_type": "code",
   "execution_count": 31,
   "id": "87a3f254-51c0-4427-a8cc-580fbf686c5b",
   "metadata": {},
   "outputs": [],
   "source": [
    "pdf_loader = DirectoryLoader('data/', glob=\"**/*.pdf\",\n",
    "                             show_progress=True,\n",
    "                             use_multithreading=True)\n",
    "markdown_loader = DirectoryLoader('data/', glob=\"**/*.md\", \n",
    "                                use_multithreading=True)\n",
    "txt_loader = DirectoryLoader('data/', glob=\"**/*.txt\", \n",
    "                             use_multithreading=True)\n",
    "\n",
    "loaders = [pdf_loader, markdown_loader, txt_loader]"
   ]
  },
  {
   "cell_type": "code",
   "execution_count": 30,
   "id": "6524118d-51d4-49a0-bb09-1b289c18240b",
   "metadata": {},
   "outputs": [
    {
     "name": "stderr",
     "output_type": "stream",
     "text": [
      "100%|███████████████████████████████████████████████████████████████████████████████████████████████████████████████████████████████████████████████████████████████████████████████████████████████| 7/7 [01:37<00:00, 13.93s/it]\n"
     ]
    },
    {
     "name": "stdout",
     "output_type": "stream",
     "text": [
      "page_content='88\\n\\nORIGINS OF THE WORD ‘MUSHROOM’\\n\\nT BAKER\\n\\ni\\n\\nMews Cottage, Main Street, Winster, Derbyshire DE4 2D]\\n\\n‘The place where they breed doth not\\nswell or beare up one jote, nay, it\\nsheweth no chinke or crevasse at all out\\nof which they should issue’\\n\\nTwo thousand years ago, Pliny (1601,\\ntransl.) was as baffled about the origins\\nof certain fungi as authors still are about\\nsome of their names; from what root, for\\ninstance, does our word mushroom\\nissue? Ramsbottom (1945) speculated ‘it\\nis presumably the old French moisseron\\n(mousseron) derived from mousse,\\nmoss’, but the Oxford English Dictionary\\ncan only confirm this as the ‘usually\\nheld’ derivation. How accurate is it and\\ndo any of the alternative etymologies\\nthat have been mooted throw chinks of\\nlight on the word, or are its origins ir-\\nrecoverably obscure?\\n\\nSome authors seem simply to have\\nguessed. Both Britten (1886) and Prior\\n(1870), though they used rather different\\narguments, assumed that mousseron\\n(also mouceron, mouscheron) referred to\\na fly-killing fungus, or mouche -eron;\\nhence the original of our mushroom,\\nthey thought, must have been the ‘fly-\\nagaric’. Early forms of the French word,\\nhowever, preclude this just as much as\\nthe lack of evidence that mousseron,\\nthough used for several species of fungi\\nin France, was ever employed as a name\\nfor Amanita muscaria. Hay (1887) dis-\\ntrusted any derivation from the French\\nbecause the name ‘seems to be of older\\nusage’ and proposed instead that it\\nderived ‘most probably’ from the ‘old\\nBritish, maes, a field, and rhum, a\\n‘knob’. Perhaps influenced by the sup-\\nposed existence of the Gaelic form,\\nmaesrhin, Cooke (1981) agreed, yet\\nneither maesrhum nor maesrhin appear\\nactually to be documented. The oldest\\n‘British’ names for fungi that we know\\nare Anglo-Saxon and all are variants of\\n\\nswamm (cf modern German, Schwamm),\\na word unrelated to mushroom\\n(Cockayne, 1857).\\n\\nA more puzzling possibility was\\nunearthed by Grigson (1974): ‘XV cen-\\ntury. From Old French moisseron,\\nearlier meisseron, from the VIth century\\nLatinized form mussirio, accusative\\nmussirionem, of a Frankish word used\\nin Northern France’. His source is a\\ntreatise on food by a Byzantine physi-\\ncian, Anthimus, who wrote of\\n‘mussiriones’ and truffles. The word\\nmay be authentic or it may be a scribal\\ninterpolation; there are certainly no\\nother known instances of its use.\\nAmongst other commentators only\\nWasson & Wasson (1957), who made a\\nlife’s work of studying mushroom\\nnames, seem to notice it, and they were\\nsceptical about the word’s existence.\\nMoreover, they also mistrusted any\\nderivation of mousseron from words\\nrelating to moss on the grounds that the\\nOld French words rule it out. They at-\\ntributed the idea to N. de Bonnefons,\\nwhose Le Jardinier Francois was\\ntranslated into English by John Evelyn\\nin 1658: he mentions those fungi that ap-\\npear ‘hid in the mosse in the woods from\\nwhence they seem to derive their name\\nof Mousch, or Mousserons’. In fact the\\nidea does seem older for Francis Bacon\\nhad previously quoted Salamius’ opi-\\nnion that moucerons were so-called\\n‘because they grow . . . where the her-\\nbage is very short, and scarcely aught\\nexcept moss’ (see Rolfe & Rolfe, 1925);\\nand we know from Parkinson (1640),\\nwho drew an analogy between ‘the\\nMosses and excrescences of the Sea’ and\\n‘the Mosses and Mushromes of the\\nLand’, that mosses, sponges and\\nmushrooms were regarded as kindred\\nproducts. But is this sufficient to explain\\nthe origin of our mushroom?\\n\\nAt least one possibility seems never to\\nhave been noticed. In French, apart from\\nreferring to moss, mousse has also been\\nused of sea-foam, or spume, i.e. any\\nfroth stirred up by the churning of water:\\nmodern English of course uses it to\\ndescribe a ‘frothy’ dessert. One of the\\noldest notions about the nature of fungi\\nwas that they developed, as Pliny wrote,\\nfrom a ‘kind of glutinous fome or froth\\n(spuma lentior)’. The persistence of this\\nbelief helps account for the association\\nof mushrooms and sponges, for though\\nthey grow in different elements both\\nwere thought to be compacted forms of\\n‘foame or froth’ (Gerard, 1636): indeed\\netymologically sponge comes from the\\nidentical root as fungus. There is also a\\nNorse myth which recounts how fungi\\ngrew from the flecks of froth that fall\\nfrom Wotan’s horse (Kavaler, 1967).\\nMight then the mousse of mousseron\\nrefer at least as much to froth as it does\\nto moss?\\n\\nWasson & Wasson, however, believed\\nthat the origins of mushroom were much\\nolder. Following a hint from Robert\\nGraves, they traced mousseron back to\\nthe Greek word for mushroom, puxns\\n(from which we get mycology) and\\nargued that it ‘was once, metaphorical-\\nly, a glob of mucus’. The suggestion was\\nnot entirely original for Badham (1847)\\nhad remarked on the equivalence of\\nvuxns and Latin mucus, though perhaps\\nbecause he found it distasteful, regard-\\ned it as a ‘probably factitious’ root. One\\nof the first etymologists, John Minsheu\\n(1625), had similarly recognised that the\\nwords might be linked. Wasson &\\nWasson, however, were able to support\\ntheir theory by showing how deeply\\nrooted was the association of mush-\\nrooms and mucoid matter. There was\\nPliny’s evidence: ‘these Mushromes take\\ntheir originall and beginning of a slimie\\nmud. . . they all take their beginning of\\nnothing els but the slimie humour of\\ntrees’. There were the suspicions\\nrepeatedly voiced in the early herbals\\nabout the ‘gleymynesse’ or ‘slymy soft-\\nnesse’ of certain fungi (Grete Herbal,\\n1539). There was also figurative usage.\\n\\n89\\n\\nWhy should wax at a candle’s rim have\\nbeen known as a ‘mushroom’, Wasson\\n& Wasson asked, except that its harden-\\ning from a molten ‘slime’-like liquid\\nseemed to parallel ideas about the for-\\nmation of fungi? Virgil had written (in\\nGerard’s translation):\\n\\nAnd maidens which night tasks do\\nhandle,\\n\\nA winterly storm haue foreknowne\\n\\nWhen sparkle they marked the candle:\\n\\nAnd up rotten Mushrums be growne.\\n\\nEnglish dialect preserved a similar use\\nof ‘mushroom’ at least into the 19th cen-\\ntury (Wright, 1898), although a candle-\\nsnuff was more commonly referred to as\\na snot. In slang snot has been used of\\nseveral slimy things e.g. the pulp of\\nyewberries (MacMillan, 1922); a slimy\\nkind of flat-fish (OED). Nowadays it\\nusually refers to nasal mucus, and for\\nthis the ancient Greeks used Muga which,\\nas Wasson & Wasson pointed out, was\\n‘inextricably associated with yuxns’.\\nThe interweaving of such connota-\\ntions, much more complex than is\\nhinted here, convinced Wasson &\\nWasson that they had found the true root\\nof the first element in mousseron. The\\nsuffix -eron they thought served in\\nFrench to make a word of general ap-\\nplication specific: hence mousseron\\nwould not have been used loosely like\\nour mushroom but applied to some par-\\nticular fungus, possibly Calocybe gam-\\nbosa. If this is true of the ancient origins\\nof mushroom, there seems little doubt\\nthat English has the word from French.\\nIn the list compiled by Rolfe & Rolfe\\n(1925), all the earliest examples of the\\nword in English are trisyllabic, as in\\nFrench, and the retention of this pro-\\nnounciation in the West Country mishe-\\nroon (masheroon in Ireland according to\\nBritten, 1886) proved the ‘conservative -\\ntendency of dialect words’ in Mac- -\\nMillan’s (1922) view. It perhaps only .\\nproves that most intriguing etymologies |\\nare generally a mishmash. Ramsbottom\\n(1953) cited one author who complain- |\\ned that the name mousseron was ‘bar- *\\nbarous’ because it had ‘caused endless .\\n\\n90\\nconfusion’: had it not, however, would\\nit now prove as curious?\\n\\nREFERENCES\\n\\nBapuam, C D (1847). A treatise on the\\nesculent fungusses of England. London.\\n\\nBrirren, J & HOLLAND, R (1886). A Dictionary\\nof English Plant Names. London.\\n\\nCockayng, T O, Ed. (1857). Leechdoms,\\nWortcunning and Starcraft of early\\nEngland. London: Longman Green.\\n\\nCooke, R (1981). Fungi. p24. London.\\n\\nGerarp, J (1636). The Herball or General\\nHistories of Plantes. p1578.\\n\\nGricson, G (1974). A Dictionary of Plant-\\nNames. p147. London.\\n\\nHay, W D (1887). An Elementary Textbook\\nof British Fungi. p2. London.\\n\\nKAVvALER, L. (1967). Mushrooms, Moulds and\\nMiracles. p24. London.\\n\\nMacmiLLAN, A S (1922). Popular Names of\\nFlowers, Fruits &c. Yeovil.\\n\\nMINSHEU, J (1625). The Guide into Tongues.\\n\\nPARKINSON, J (1640). Theatrum Botanicum.\\np1306.\\n\\nPuiny, C (1601). The History of the World.\\nTrans}. Philemon Holland. Book 22, chapter\\nXXII: 132. London.\\n\\nPrior, R C A (1870). Popular Names of\\nBritish Plants. London.\\n\\nRamsportrom, J (1945). Poisonous Fungi. p7.\\nHarmondsworth.\\n\\nRamsgorToM, J (1953). Mushrooms and\\nToadstools. p3. London.\\n\\nRotre, R T & Rowre, F W (1925). The\\nRomance of the Fungus World. pp292-295.\\nLondon.\\n\\nWasson, R G & Wasson, V P (1957).\\nMushrooms, Russia and History; New York.\\n\\nWaricut, J (1898). English Dialect Dictionary.\\nLondon.\\n' metadata={'source': 'data\\\\Baker 1989_Mycologist.pdf'}\n"
     ]
    }
   ],
   "source": [
    "documents = []\n",
    "for loader in loaders:\n",
    "    if loader == pdf_loader:\n",
    "        docs = loader.load()\n",
    "        for doc in docs:\n",
    "            #print(doc)\n",
    "            if len(doc.page_content) == 0:\n",
    "                #print(doc.metadata['source'])\n",
    "                doc.page_content = extract_text_from_pdf(doc.metadata['source'])\n",
    "                documents.append(doc)\n",
    "                # print(doc)\n",
    "            else:\n",
    "                documents.append(doc)\n",
    "    else:\n",
    "        documents.extend(loader.load())"
   ]
  },
  {
   "cell_type": "code",
   "execution_count": null,
   "id": "c9ea96cb-3ea8-40b1-a4ce-b6079d331aa0",
   "metadata": {},
   "outputs": [],
   "source": [
    ", namespace='my-namespace'"
   ]
  }
 ],
 "metadata": {
  "kernelspec": {
   "display_name": "Python 3 (ipykernel)",
   "language": "python",
   "name": "python3"
  },
  "language_info": {
   "codemirror_mode": {
    "name": "ipython",
    "version": 3
   },
   "file_extension": ".py",
   "mimetype": "text/x-python",
   "name": "python",
   "nbconvert_exporter": "python",
   "pygments_lexer": "ipython3",
   "version": "3.10.7"
  }
 },
 "nbformat": 4,
 "nbformat_minor": 5
}
